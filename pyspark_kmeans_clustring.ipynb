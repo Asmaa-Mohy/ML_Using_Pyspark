{
  "cells": [
    {
      "cell_type": "code",
      "execution_count": null,
      "id": "660f1327",
      "metadata": {
        "id": "660f1327"
      },
      "outputs": [],
      "source": [
        "import findspark\n",
        "findspark.init()\n",
        "import pyspark"
      ]
    },
    {
      "cell_type": "code",
      "execution_count": null,
      "id": "190f4b3c",
      "metadata": {
        "id": "190f4b3c"
      },
      "outputs": [],
      "source": [
        "from pyspark.sql import SparkSession"
      ]
    },
    {
      "cell_type": "code",
      "execution_count": null,
      "id": "d409e0f1",
      "metadata": {
        "id": "d409e0f1"
      },
      "outputs": [],
      "source": [
        "spark = SparkSession.builder.getOrCreate()"
      ]
    },
    {
      "cell_type": "code",
      "execution_count": null,
      "id": "eae0704d",
      "metadata": {
        "id": "eae0704d"
      },
      "outputs": [],
      "source": [
        "df = spark.read.csv('cc_data_preprocessed.csv',header=True,inferSchema=True)"
      ]
    },
    {
      "cell_type": "code",
      "execution_count": null,
      "id": "cac2a610",
      "metadata": {
        "id": "cac2a610",
        "outputId": "2e7d29c2-8383-4491-ecd6-4134b66ec123"
      },
      "outputs": [
        {
          "name": "stdout",
          "output_type": "stream",
          "text": [
            "root\n",
            " |-- CUST_ID: string (nullable = true)\n",
            " |-- BALANCE: double (nullable = true)\n",
            " |-- BALANCE_FREQUENCY: double (nullable = true)\n",
            " |-- PURCHASES: double (nullable = true)\n",
            " |-- ONEOFF_PURCHASES: double (nullable = true)\n",
            " |-- INSTALLMENTS_PURCHASES: double (nullable = true)\n",
            " |-- CASH_ADVANCE: double (nullable = true)\n",
            " |-- PURCHASES_FREQUENCY: double (nullable = true)\n",
            " |-- ONEOFF_PURCHASES_FREQUENCY: double (nullable = true)\n",
            " |-- PURCHASES_INSTALLMENTS_FREQUENCY: double (nullable = true)\n",
            " |-- CASH_ADVANCE_FREQUENCY: double (nullable = true)\n",
            " |-- CASH_ADVANCE_TRX: double (nullable = true)\n",
            " |-- PURCHASES_TRX: double (nullable = true)\n",
            " |-- CREDIT_LIMIT: double (nullable = true)\n",
            " |-- PAYMENTS: double (nullable = true)\n",
            " |-- MINIMUM_PAYMENTS: double (nullable = true)\n",
            " |-- PRC_FULL_PAYMENT: double (nullable = true)\n",
            " |-- TENURE: integer (nullable = true)\n",
            "\n"
          ]
        }
      ],
      "source": [
        "df.printSchema()"
      ]
    },
    {
      "cell_type": "code",
      "execution_count": null,
      "id": "25e03ecd",
      "metadata": {
        "id": "25e03ecd"
      },
      "outputs": [],
      "source": [
        "df = df.drop('CUST_ID')"
      ]
    },
    {
      "cell_type": "code",
      "execution_count": null,
      "id": "e5a893c4",
      "metadata": {
        "id": "e5a893c4"
      },
      "outputs": [],
      "source": [
        "#split data into train, test\n",
        "trainDF, testDF = df.randomSplit([0.8,0.2], seed=42)"
      ]
    },
    {
      "cell_type": "code",
      "execution_count": null,
      "id": "91819c21",
      "metadata": {
        "id": "91819c21"
      },
      "outputs": [],
      "source": [
        "from pyspark.ml.feature import VectorAssembler"
      ]
    },
    {
      "cell_type": "code",
      "execution_count": null,
      "id": "328b9f8c",
      "metadata": {
        "id": "328b9f8c"
      },
      "outputs": [],
      "source": [
        "vecAssembler = VectorAssembler(inputCols=df.columns, outputCol='features')"
      ]
    },
    {
      "cell_type": "code",
      "execution_count": null,
      "id": "8a773364",
      "metadata": {
        "id": "8a773364"
      },
      "outputs": [],
      "source": [
        "from pyspark.ml.clustering import KMeans"
      ]
    },
    {
      "cell_type": "code",
      "execution_count": null,
      "id": "15071769",
      "metadata": {
        "id": "15071769"
      },
      "outputs": [],
      "source": [
        "kmeans = KMeans(k=7, featuresCol= 'features', predictionCol='prediction', seed = 1)"
      ]
    },
    {
      "cell_type": "code",
      "execution_count": null,
      "id": "959fefad",
      "metadata": {
        "id": "959fefad"
      },
      "outputs": [],
      "source": [
        "myStages = [vecAssembler, kmeans]"
      ]
    },
    {
      "cell_type": "code",
      "execution_count": null,
      "id": "a3f3e983",
      "metadata": {
        "id": "a3f3e983"
      },
      "outputs": [],
      "source": [
        "from pyspark.ml import Pipeline\n",
        "pipeline = Pipeline(stages=myStages)"
      ]
    },
    {
      "cell_type": "code",
      "execution_count": null,
      "id": "fd810dea",
      "metadata": {
        "id": "fd810dea"
      },
      "outputs": [],
      "source": [
        "pipelineModel = pipeline.fit(trainDF)"
      ]
    },
    {
      "cell_type": "code",
      "execution_count": null,
      "id": "81b6bb1b",
      "metadata": {
        "id": "81b6bb1b"
      },
      "outputs": [],
      "source": [
        "predDF_train = pipelineModel.transform(trainDF)"
      ]
    },
    {
      "cell_type": "code",
      "execution_count": null,
      "id": "5682fd78",
      "metadata": {
        "id": "5682fd78"
      },
      "outputs": [],
      "source": [
        "predDF_test = pipelineModel.transform(testDF)"
      ]
    },
    {
      "cell_type": "code",
      "execution_count": null,
      "id": "88747947",
      "metadata": {
        "id": "88747947",
        "outputId": "e9909e5d-ae6b-4208-dc4b-a5daf4e01a6f"
      },
      "outputs": [
        {
          "name": "stdout",
          "output_type": "stream",
          "text": [
            "root\n",
            " |-- BALANCE: double (nullable = true)\n",
            " |-- BALANCE_FREQUENCY: double (nullable = true)\n",
            " |-- PURCHASES: double (nullable = true)\n",
            " |-- ONEOFF_PURCHASES: double (nullable = true)\n",
            " |-- INSTALLMENTS_PURCHASES: double (nullable = true)\n",
            " |-- CASH_ADVANCE: double (nullable = true)\n",
            " |-- PURCHASES_FREQUENCY: double (nullable = true)\n",
            " |-- ONEOFF_PURCHASES_FREQUENCY: double (nullable = true)\n",
            " |-- PURCHASES_INSTALLMENTS_FREQUENCY: double (nullable = true)\n",
            " |-- CASH_ADVANCE_FREQUENCY: double (nullable = true)\n",
            " |-- CASH_ADVANCE_TRX: double (nullable = true)\n",
            " |-- PURCHASES_TRX: double (nullable = true)\n",
            " |-- CREDIT_LIMIT: double (nullable = true)\n",
            " |-- PAYMENTS: double (nullable = true)\n",
            " |-- MINIMUM_PAYMENTS: double (nullable = true)\n",
            " |-- PRC_FULL_PAYMENT: double (nullable = true)\n",
            " |-- TENURE: integer (nullable = true)\n",
            " |-- features: vector (nullable = true)\n",
            " |-- prediction: integer (nullable = false)\n",
            "\n"
          ]
        }
      ],
      "source": [
        "predDF_train.printSchema()"
      ]
    },
    {
      "cell_type": "code",
      "execution_count": null,
      "id": "f906d98f",
      "metadata": {
        "id": "f906d98f"
      },
      "outputs": [],
      "source": [
        "from pyspark.ml.evaluation import ClusteringEvaluator"
      ]
    },
    {
      "cell_type": "code",
      "execution_count": null,
      "id": "b464596b",
      "metadata": {
        "id": "b464596b"
      },
      "outputs": [],
      "source": [
        "silscore = ClusteringEvaluator(featuresCol='features', predictionCol='prediction')"
      ]
    },
    {
      "cell_type": "code",
      "execution_count": null,
      "id": "9d6e86b1",
      "metadata": {
        "id": "9d6e86b1",
        "outputId": "5c345fb8-36e6-4c60-acd3-9aff1e363a4e"
      },
      "outputs": [
        {
          "data": {
            "text/plain": [
              "0.5581551956984339"
            ]
          },
          "execution_count": 66,
          "metadata": {},
          "output_type": "execute_result"
        }
      ],
      "source": [
        "silscore.evaluate(predDF_train)"
      ]
    },
    {
      "cell_type": "code",
      "execution_count": null,
      "id": "56f298ae",
      "metadata": {
        "id": "56f298ae",
        "outputId": "ba6236af-1cd1-4041-b479-0ccb9729a6d2"
      },
      "outputs": [
        {
          "data": {
            "text/plain": [
              "0.5456400212584801"
            ]
          },
          "execution_count": 67,
          "metadata": {},
          "output_type": "execute_result"
        }
      ],
      "source": [
        "silscore.evaluate(predDF_test)"
      ]
    }
  ],
  "metadata": {
    "kernelspec": {
      "display_name": "Python 3 (ipykernel)",
      "language": "python",
      "name": "python3"
    },
    "language_info": {
      "codemirror_mode": {
        "name": "ipython",
        "version": 3
      },
      "file_extension": ".py",
      "mimetype": "text/x-python",
      "name": "python",
      "nbconvert_exporter": "python",
      "pygments_lexer": "ipython3",
      "version": "3.9.7"
    },
    "colab": {
      "provenance": []
    }
  },
  "nbformat": 4,
  "nbformat_minor": 5
}